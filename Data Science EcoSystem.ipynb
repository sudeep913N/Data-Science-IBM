{
 "cells": [
  {
   "cell_type": "markdown",
   "id": "d810ecaf",
   "metadata": {},
   "source": [
    "# Data Science Tools and Ecosystem"
   ]
  },
  {
   "cell_type": "markdown",
   "id": "22723940",
   "metadata": {},
   "source": [
    "In this notebook, Data Science and Ecosystem are summarized"
   ]
  },
  {
   "cell_type": "markdown",
   "id": "e792c967",
   "metadata": {},
   "source": [
    "The language used for data science are:\n",
    "\n",
    "1.Python\n",
    "\n",
    "2.R\n",
    "\n",
    "3.SQL\n",
    "\n",
    "4.Java etc"
   ]
  },
  {
   "cell_type": "markdown",
   "id": "38087312",
   "metadata": {},
   "source": [
    "Some of the commonly used libraries by data scientits are:\n",
    "    \n",
    "    1. TensorFlow\n",
    "    \n",
    "    2. NumPy\n",
    "    \n",
    "    3. SciPy\n",
    "    \n",
    "    4. Pandas\n",
    "    \n",
    "    5. Matplotlib\n",
    "    \n",
    "    6. Keras\n",
    "    \n",
    "    7. SciKit-Learn etc"
   ]
  },
  {
   "cell_type": "markdown",
   "id": "a80b14d4",
   "metadata": {},
   "source": [
    "|Data Science Tools|\n",
    "|---|\n",
    "|SAS|\n",
    "|Apache Hadoop|\n",
    "|TensorFlow|\n"
   ]
  },
  {
   "cell_type": "markdown",
   "id": "40d0d0dd",
   "metadata": {},
   "source": [
    "### arithmetic expression examples"
   ]
  },
  {
   "cell_type": "code",
   "execution_count": 3,
   "id": "09a176cd",
   "metadata": {},
   "outputs": [
    {
     "data": {
      "text/plain": [
       "253"
      ]
     },
     "execution_count": 3,
     "metadata": {},
     "output_type": "execute_result"
    }
   ],
   "source": [
    "# multiplying and adding\n",
    "(10*20)+53"
   ]
  },
  {
   "cell_type": "code",
   "execution_count": 4,
   "id": "6f9b64d3",
   "metadata": {},
   "outputs": [
    {
     "data": {
      "text/plain": [
       "8.333333333333334"
      ]
     },
     "execution_count": 4,
     "metadata": {},
     "output_type": "execute_result"
    }
   ],
   "source": [
    "# Converting minutes to hours by dividing with 60\n",
    "500/60"
   ]
  },
  {
   "cell_type": "markdown",
   "id": "deaf6c0a",
   "metadata": {},
   "source": [
    "Objectives"
   ]
  },
  {
   "cell_type": "markdown",
   "id": "f03b2560",
   "metadata": {},
   "source": [
    "* list data science languages\n",
    "* list data science libraries\n",
    "* table of Data Science tools\n",
    "* arithmetic expression examples"
   ]
  },
  {
   "cell_type": "markdown",
   "id": "d5ad5715",
   "metadata": {},
   "source": [
    "## Author"
   ]
  },
  {
   "cell_type": "markdown",
   "id": "dd4f886e",
   "metadata": {},
   "source": [
    "Sai Sudeep Jinkala"
   ]
  },
  {
   "cell_type": "code",
   "execution_count": null,
   "id": "19ba736b",
   "metadata": {},
   "outputs": [],
   "source": []
  }
 ],
 "metadata": {
  "kernelspec": {
   "display_name": "Python 3 (ipykernel)",
   "language": "python",
   "name": "python3"
  },
  "language_info": {
   "codemirror_mode": {
    "name": "ipython",
    "version": 3
   },
   "file_extension": ".py",
   "mimetype": "text/x-python",
   "name": "python",
   "nbconvert_exporter": "python",
   "pygments_lexer": "ipython3",
   "version": "3.9.12"
  }
 },
 "nbformat": 4,
 "nbformat_minor": 5
}
